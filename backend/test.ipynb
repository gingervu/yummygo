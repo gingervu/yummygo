{
 "cells": [
  {
   "cell_type": "code",
   "execution_count": null,
   "metadata": {},
   "outputs": [],
   "source": [
    "import requests\n",
    "\n",
    "def get_coordinates(address: str):\n",
    "    url = f\"https://nominatim.openstreetmap.org/search?q={address}&format=json\"\n",
    "    response = requests.get(url)\n",
    "    data = response.json()\n",
    "    \n",
    "    if data:\n",
    "        return float(data[0]['lat']), float(data[0]['lon'])  # Trả về latitude và longitude\n",
    "    else:\n",
    "        return None\n",
    "\n",
    "# Ví dụ sử dụng\n",
    "address1 = \"Hanoi, Vietnam\"\n",
    "address2 = \"Ho Chi Minh City, Vietnam\"\n",
    "\n",
    "lat1, lon1 = get_coordinates(address1)\n",
    "lat2, lon2 = get_coordinates(address2)\n",
    "\n",
    "print(f\"Tọa độ của {address1}: {lat1}, {lon1}\")\n",
    "print(f\"Tọa độ của {address2}: {lat2}, {lon2}\")\n"
   ]
  }
 ],
 "metadata": {
  "kernelspec": {
   "display_name": "venv",
   "language": "python",
   "name": "python3"
  },
  "language_info": {
   "name": "python",
   "version": "3.12.6"
  }
 },
 "nbformat": 4,
 "nbformat_minor": 2
}
